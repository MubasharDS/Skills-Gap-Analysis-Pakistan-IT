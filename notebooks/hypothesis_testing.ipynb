{
 "cells": [
  {
   "cell_type": "code",
   "execution_count": 9,
   "metadata": {},
   "outputs": [],
   "source": [
    "import numpy as np\n",
    "import pandas as pd\n",
    "import scipy.stats as stats\n",
    "import matplotlib.pyplot as plt\n",
    "from matplotlib import font_manager\n",
    "from scipy.stats import chi2_contingency"
   ]
  },
  {
   "cell_type": "code",
   "execution_count": 3,
   "metadata": {
    "colab": {
     "base_uri": "https://localhost:8080/"
    },
    "id": "d96zmEDtR4sF",
    "outputId": "f3898daf-2054-4a75-c8d7-08eb9dc68ae9"
   },
   "outputs": [
    {
     "name": "stdout",
     "output_type": "stream",
     "text": [
      "Contingency Table:\n",
      "             Artificial Intelligence  Data Analytics  Cloud Computing  \\\n",
      "Curriculum                        58              22               38   \n",
      "Job Posting                       26              40               19   \n",
      "\n",
      "             Cyber Security  Python/R  DevOps  Big Data  \n",
      "Curriculum               49        27       2         6  \n",
      "Job Posting               4        29       3         9  \n",
      "\n",
      "Null Hypothesis (H0): There is no association between curriculum skills and job posting skills.\n",
      "Alternative Hypothesis (H1): There is an association between curriculum skills and job posting skills.\n",
      "\n",
      "Chi-Square Statistic: 49.54427545104138\n",
      "Degrees of Freedom: 6\n",
      "p-value: 5.801249426903325e-09\n",
      "\n",
      "Since the p-value is less than 0.05, we reject the null hypothesis.\n"
     ]
    }
   ],
   "source": [
    "curriculum_skills = np.array([58, 22, 38, 49, 27, 2, 6])\n",
    "job_posting_skills = np.array([26, 40, 19, 4, 29, 3, 9])\n",
    "\n",
    "\n",
    "observed = np.array([curriculum_skills, job_posting_skills])\n",
    "\n",
    "skills = ['Artificial Intelligence', 'Data Analytics', 'Cloud Computing', 'Cyber Security', 'Python/R', 'DevOps', 'Big Data']\n",
    "df_contingency = pd.DataFrame(observed, index=[\"Curriculum\", \"Job Posting\"], columns=skills)\n",
    "\n",
    "print(\"Contingency Table:\")\n",
    "print(df_contingency)\n",
    "\n",
    "row_totals = observed.sum(axis=1)\n",
    "col_totals = observed.sum(axis=0)\n",
    "grand_total = observed.sum()\n",
    "\n",
    "expected = np.outer(row_totals, col_totals) / grand_total\n",
    "\n",
    "chi2_stat = ((observed - expected) ** 2 / expected).sum()\n",
    "\n",
    "df = (observed.shape[0] - 1) * (observed.shape[1] - 1)\n",
    "\n",
    "p_value = stats.chi2.sf(chi2_stat, df)\n",
    "\n",
    "print(\"\\nNull Hypothesis (H0): There is no association between curriculum skills and job posting skills.\")\n",
    "print(\"Alternative Hypothesis (H1): There is an association between curriculum skills and job posting skills.\")\n",
    "print(\"\\nChi-Square Statistic:\", chi2_stat)\n",
    "print(\"Degrees of Freedom:\", df)\n",
    "print(\"p-value:\", p_value)\n",
    "\n",
    "alpha = 0.05\n",
    "if p_value < alpha:\n",
    "    print(\"\\nSince the p-value is less than 0.05, we reject the null hypothesis.\")\n",
    "else:\n",
    "    print(\"\\nSince the p-value is greater than 0.05, we fail to reject the null hypothesis.\")"
   ]
  },
  {
   "cell_type": "code",
   "execution_count": 5,
   "metadata": {
    "colab": {
     "base_uri": "https://localhost:8080/"
    },
    "id": "bE3xgZ33SR1Z",
    "outputId": "c924b0ae-a123-4dc5-a452-4c094312e53e"
   },
   "outputs": [
    {
     "name": "stdout",
     "output_type": "stream",
     "text": [
      "Contingency Table:\n",
      "                DevOps Practices  Cybersecurity Fundamentals  AI & ML  \\\n",
      "Missing skills                56                          53       53   \n",
      "Job Posting                    3                           4       26   \n",
      "\n",
      "                Blockchain  Robotics & Automation  Cloud Computing  Big Data  \\\n",
      "Missing skills          50                     49               45        41   \n",
      "Job Posting              0                      0               19         9   \n",
      "\n",
      "                Data Science  IoT  Python  \n",
      "Missing skills            40   39       0  \n",
      "Job Posting               40    0      29  \n",
      "\n",
      "Null Hypothesis (H0): There is no association between missing skills and job posting skills.\n",
      "Alternative Hypothesis (H1): There is an association between missing skills and job posting skills.\n",
      "\n",
      "Chi-Square Statistic: 194.56448066423144\n",
      "Degrees of Freedom: 9\n",
      "p-value: 4.56117695491736e-37\n",
      "\n",
      "Since the p-value is less than 0.05, we reject the null hypothesis.\n",
      "Conclusion: There is a significant association between missing skills and job posting skills.\n"
     ]
    }
   ],
   "source": [
    "missing_skills = np.array([56, 53, 53, 50, 49, 45, 41, 40, 39, 0])\n",
    "job_posting_skills = np.array([3, 4, 26, 0, 0, 19, 9, 40, 0, 29])\n",
    "\n",
    "observed = np.array([missing_skills, job_posting_skills])\n",
    "\n",
    "skills = [\n",
    "    \"DevOps Practices\",\n",
    "    \"Cybersecurity Fundamentals\",\n",
    "    \"AI & ML\",\n",
    "    \"Blockchain\",\n",
    "    \"Robotics & Automation\",\n",
    "    \"Cloud Computing\",\n",
    "    \"Big Data\",\n",
    "    \"Data Science\",\n",
    "    \"IoT\",\n",
    "    \"Python\"\n",
    "]\n",
    "df_contingency = pd.DataFrame(observed, index=[\"Missing skills\", \"Job Posting\"], columns=skills)\n",
    "\n",
    "print(\"Contingency Table:\")\n",
    "print(df_contingency)\n",
    "\n",
    "row_totals = observed.sum(axis=1)\n",
    "col_totals = observed.sum(axis=0)\n",
    "grand_total = observed.sum()\n",
    "\n",
    "expected = np.outer(row_totals, col_totals) / grand_total\n",
    "\n",
    "chi2_stat = ((observed - expected) ** 2 / expected).sum()\n",
    "\n",
    "df = (observed.shape[0] - 1) * (observed.shape[1] - 1)\n",
    "\n",
    "p_value = stats.chi2.sf(chi2_stat, df)\n",
    "\n",
    "print(\"\\nNull Hypothesis (H0): There is no association between missing skills and job posting skills.\")\n",
    "print(\"Alternative Hypothesis (H1): There is an association between missing skills and job posting skills.\")\n",
    "\n",
    "print(\"\\nChi-Square Statistic:\", chi2_stat)\n",
    "print(\"Degrees of Freedom:\", df)\n",
    "print(\"p-value:\", p_value)\n",
    "\n",
    "alpha = 0.05\n",
    "if p_value < alpha:\n",
    "    print(\"\\nSince the p-value is less than 0.05, we reject the null hypothesis.\")\n",
    "    print(\"Conclusion: There is a significant association between missing skills and job posting skills.\")\n",
    "else:\n",
    "    print(\"\\nSince the p-value is greater than 0.05, we fail to reject the null hypothesis.\")\n",
    "    print(\"Conclusion: There is no significant association between missing skills and job posting skills.\")\n",
    "\n"
   ]
  },
  {
   "cell_type": "code",
   "execution_count": 11,
   "metadata": {
    "colab": {
     "base_uri": "https://localhost:8080/"
    },
    "id": "lDx4S4ePSSWr",
    "outputId": "a97f0d84-2be7-4489-a8da-53b757fcb5c0"
   },
   "outputs": [
    {
     "name": "stdout",
     "output_type": "stream",
     "text": [
      "Hypothesis Testing:\n",
      "Null Hypothesis (H₀): No association (independence) exists between the degree type (BS or MS) and job preparation ratings.\n",
      "Alternative Hypothesis (H₁): An association (dependence) exists between the degree type (BS or MS) and job preparation ratings.\n",
      "\n",
      "Contingency Table:\n",
      "     1   2   3  4  5\n",
      "BS  13  25  29  8  8\n",
      "MS   5   2   9  6  0\n",
      "\n",
      "Chi-Square Statistic: 9.844737802886186\n",
      "P-value: 0.04312586351408984\n",
      "Degrees of Freedom: 4\n",
      "\n",
      "Conclusion: We reject the null hypothesis (H₀). There is a significant association between degree type (BS or MS) and job preparation ratings.\n"
     ]
    }
   ],
   "source": [
    "BS = [2, 3, 3, 4, 2, 5, 2, 3, 2, 2, 3, 2, 3, 2, 2, 2, 4, 3, 5, 1, 1, 3, 1, 5, 1, 2, 1, 2, 5, 1, 1, 5, 5, 3, 3, 4, 2, 3, 3, 4, 1, 3, 2, 3, 2, 5, 3, 3, 1, 3, 2, 3, 2, 2, 3, 3, 2, 3, 3, 2, 4, 4, 2, 3, 1, 3, 5, 3, 1, 3, 2, 3, 3, 2, 2, 4, 1, 1, 3, 4, 3, 2, 2]\n",
    "MS = [4, 2, 3, 4, 4, 3, 3, 3, 3, 3, 4, 1, 3, 4, 3, 1, 4, 1, 3, 1, 1, 2]\n",
    "\n",
    "ratings = [1, 2, 3, 4, 5]\n",
    "bs_counts = [BS.count(rating) for rating in ratings]\n",
    "ms_counts = [MS.count(rating) for rating in ratings]\n",
    "\n",
    "contingency_table = pd.DataFrame([bs_counts, ms_counts],\n",
    "                                 index=['BS', 'MS'],\n",
    "                                 columns=ratings)\n",
    "\n",
    "chi2_stat, p_value, dof, expected = chi2_contingency(contingency_table)\n",
    "\n",
    "\n",
    "print(\"Hypothesis Testing:\")\n",
    "print(\"Null Hypothesis (H₀): No association (independence) exists between the degree type (BS or MS) and job preparation ratings.\")\n",
    "print(\"Alternative Hypothesis (H₁): An association (dependence) exists between the degree type (BS or MS) and job preparation ratings.\\n\")\n",
    "\n",
    "print(\"Contingency Table:\")\n",
    "print(contingency_table)\n",
    "\n",
    "print(\"\\nChi-Square Statistic:\", chi2_stat)\n",
    "print(\"P-value:\", p_value)\n",
    "print(\"Degrees of Freedom:\", dof)\n",
    "\n",
    "\n",
    "if p_value < 0.05:\n",
    "    print(\"\\nConclusion: We reject the null hypothesis (H₀). There is a significant association between degree type (BS or MS) and job preparation ratings.\")\n",
    "else:\n",
    "    print(\"\\nConclusion: We fail to reject the null hypothesis (H₀). There is no significant association between degree type (BS or MS) and job preparation ratings.\")"
   ]
  },
  {
   "cell_type": "code",
   "execution_count": null,
   "metadata": {},
   "outputs": [],
   "source": []
  }
 ],
 "metadata": {
  "colab": {
   "provenance": []
  },
  "kernelspec": {
   "display_name": "Python 3 (ipykernel)",
   "language": "python",
   "name": "python3"
  },
  "language_info": {
   "codemirror_mode": {
    "name": "ipython",
    "version": 3
   },
   "file_extension": ".py",
   "mimetype": "text/x-python",
   "name": "python",
   "nbconvert_exporter": "python",
   "pygments_lexer": "ipython3",
   "version": "3.12.4"
  }
 },
 "nbformat": 4,
 "nbformat_minor": 4
}
